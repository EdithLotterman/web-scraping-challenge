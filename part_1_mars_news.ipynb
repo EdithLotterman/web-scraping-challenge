{
 "cells": [
  {
   "cell_type": "markdown",
   "metadata": {},
   "source": [
    "# Module 12 Challenge\n",
    "## Deliverable 1: Scrape Titles and Preview Text from Mars News"
   ]
  },
  {
   "cell_type": "code",
   "execution_count": 34,
   "metadata": {},
   "outputs": [],
   "source": [
    "# Import Splinter and BeautifulSoup\n",
    "from splinter import Browser\n",
    "from bs4 import BeautifulSoup as soup\n",
    "from webdriver_manager.chrome import ChromeDriverManager\n",
    "import pymongo"
   ]
  },
  {
   "cell_type": "code",
   "execution_count": 13,
   "metadata": {
    "scrolled": true
   },
   "outputs": [
    {
     "name": "stderr",
     "output_type": "stream",
     "text": [
      "[WDM] - Downloading: 100%|██████████| 6.58M/6.58M [00:00<00:00, 7.56MB/s]\n"
     ]
    }
   ],
   "source": [
    "# Setup splinter\n",
    "executable_path = {'executable_path': ChromeDriverManager().install()}\n",
    "browser = Browser('chrome', **executable_path, headless=False)"
   ]
  },
  {
   "cell_type": "markdown",
   "metadata": {},
   "source": [
    "### Step 1: Visit the Website\n",
    "\n",
    "1. Use automated browsing to visit the [Mars NASA news site](https://redplanetscience.com). Inspect the page to identify which elements to scrape.\n",
    "\n",
    "      > **Hint** To identify which elements to scrape, you might want to inspect the page by using Chrome DevTools."
   ]
  },
  {
   "cell_type": "code",
   "execution_count": 14,
   "metadata": {},
   "outputs": [],
   "source": [
    "# Visit the Mars NASA news site: https://redplanetscience.com\n",
    "url = 'https://redplanetscience.com'\n",
    "browser.visit(url)"
   ]
  },
  {
   "cell_type": "markdown",
   "metadata": {},
   "source": [
    "### Step 2: Scrape the Website\n",
    "\n",
    "Create a Beautiful Soup object and use it to extract text elements from the website."
   ]
  },
  {
   "cell_type": "code",
   "execution_count": 15,
   "metadata": {},
   "outputs": [],
   "source": [
    "# Create a Beautiful Soup object\n",
    "html = browser.html\n",
    "soup = soup(html, 'html.parser')"
   ]
  },
  {
   "cell_type": "code",
   "execution_count": 29,
   "metadata": {},
   "outputs": [
    {
     "name": "stdout",
     "output_type": "stream",
     "text": [
      "\n",
      "January 4, 2023\n",
      "All About the Laser (and Microphone) Atop Mars 2020, NASA's Next Rover\n",
      "SuperCam is a rock-vaporizing instrument that will help scientists hunt for Mars fossils.\n",
      "\n",
      "\n",
      "January 3, 2023\n",
      "Robotic Toolkit Added to NASA's Mars 2020 Rover\n",
      "The bit carousel, which lies at the heart of the rover's Sample Caching System, is now aboard NASA's newest rover. \n",
      "\n",
      "\n",
      "January 3, 2023\n",
      "NASA's Push to Save the Mars InSight Lander's Heat Probe\n",
      "The scoop on the end of the spacecraft's robotic arm will be used to 'pin' the mole against the wall of its hole.\n",
      "\n",
      "\n",
      "January 3, 2023\n",
      "NASA to Broadcast Mars 2020 Perseverance Launch, Prelaunch Activities\n",
      "Starting July 27, news activities will cover everything from mission engineering and science to returning samples from Mars to, of course, the launch itself.\n",
      "\n",
      "\n",
      "January 2, 2023\n",
      "From JPL's Mailroom to Mars and Beyond\n",
      "Bill Allen has thrived as the mechanical systems design lead for three Mars rover missions, but he got his start as a teenager sorting letters for the NASA center.\n",
      "\n",
      "\n",
      "January 1, 2023\n",
      "NASA's Mars Perseverance Rover Gets Its Sample Handling System\n",
      "The system will be collecting and storing Martian rock and soil. Its installation marks another milestone in the march toward the July launch period.\n",
      "\n",
      "\n",
      "January 1, 2023\n",
      "NASA's MAVEN Maps Winds in the Martian Upper Atmosphere that Mirror the Terrain Below and Gives Clues to Martian Climate\n",
      "Researchers have created the first map of wind circulation in the upper atmosphere of a planet besides Earth, using data from NASA’s MAVEN spacecraft that were collected during the last two years.\n",
      "\n",
      "\n",
      "December 26, 2022\n",
      "What's Mars Solar Conjunction, and Why Does It Matter?\n",
      "NASA spacecraft at Mars are going to be on their own for a few weeks when the Sun comes between Mars and Earth, interrupting communications.\n",
      "\n",
      "\n",
      "December 24, 2022\n",
      "NASA's Mars 2020 Will Hunt for Microscopic Fossils\n",
      "A new paper identifies a ring of minerals at the rover's landing site that are ideal for fossilizing microbial life.\n",
      "\n",
      "\n",
      "December 22, 2022\n",
      "NASA Wins Two Emmy Awards for Interactive Mission Coverage\n",
      "NASA-JPL's coverage of the Mars InSight landing earns one of the two wins, making this the NASA center's second Emmy.\n",
      "\n",
      "\n",
      "December 22, 2022\n",
      "HiRISE Views NASA's InSight and Curiosity on Mars\n",
      "New images taken from space offer the clearest orbital glimpse yet of InSight as well as a view of Curiosity rolling along.\n",
      "\n",
      "\n",
      "December 17, 2022\n",
      "NASA's Perseverance Rover Bringing 3D-Printed Metal Parts to Mars\n",
      "For hobbyists and makers, 3D printing expands creative possibilities; for specialized engineers, it's also key to next-generation spacecraft design.\n",
      "\n",
      "\n",
      "December 15, 2022\n",
      "The Detective Aboard NASA's Perseverance Rover\n",
      "An instrument called SHERLOC will, with the help of its partner WATSON, hunt for signs of ancient life by detecting organic molecules and minerals.\n",
      "\n",
      "\n",
      "December 13, 2022\n",
      "MOXIE Could Help Future Rockets Launch Off Mars\n",
      "NASA's Perseverance rover carries a device to convert Martian air into oxygen that, if produced on a larger scale, could be used not just for breathing, but also for fuel.\n",
      "\n",
      "\n",
      "December 9, 2022\n",
      "Virginia Middle School Student Earns Honor of Naming NASA's Next Mars Rover\n",
      "NASA chose a seventh-grader from Virginia as winner of the agency's \"Name the Rover\" essay contest. Alexander Mather's entry for \"Perseverance\" was voted tops among 28,000 entries. \n",
      "\n"
     ]
    }
   ],
   "source": [
    "# Extract all the text elements\n",
    "responses = soup.find_all('div', class_= \"list_text\")\n",
    "for response in responses:\n",
    "    print(response.text)"
   ]
  },
  {
   "cell_type": "markdown",
   "metadata": {},
   "source": [
    "### Step 3: Store the Results\n",
    "\n",
    "Extract the titles and preview text of the news articles that you scraped. Store the scraping results in Python data structures as follows:\n",
    "\n",
    "* Store each title-and-preview pair in a Python dictionary. And, give each dictionary two keys: `title` and `preview`. An example is the following:\n",
    "\n",
    "  ```python\n",
    "  {'title': \"Mars Rover Begins Mission!\", \n",
    "        'preview': \"NASA's Mars Rover begins a multiyear mission to collect data about the little-explored planet.\"}\n",
    "  ```\n",
    "\n",
    "* Store all the dictionaries in a Python list.\n",
    "\n",
    "* Print the list in your notebook."
   ]
  },
  {
   "cell_type": "code",
   "execution_count": 30,
   "metadata": {},
   "outputs": [],
   "source": [
    "# Create an empty list to store the dictionaries\n",
    "articles = []"
   ]
  },
  {
   "cell_type": "code",
   "execution_count": 31,
   "metadata": {},
   "outputs": [],
   "source": [
    "# Loop through the text elements\n",
    "for response in responses:\n",
    "\n",
    "# Extract the title and preview text from the elements\n",
    "    title = response.find('div', class_='content_title').text\n",
    "    preview = response.find('div', class_='article_teaser_body').text\n",
    "\n",
    "# Store each title and preview pair in a dictionary\n",
    "    dict = {'title': title, 'preview': preview}\n",
    "\n",
    "# Add the dictionary to the list\n",
    "    articles.append(dict)\n",
    "    \n"
   ]
  },
  {
   "cell_type": "code",
   "execution_count": 32,
   "metadata": {},
   "outputs": [
    {
     "name": "stdout",
     "output_type": "stream",
     "text": [
      "[{'title': \"All About the Laser (and Microphone) Atop Mars 2020, NASA's Next Rover\", 'preview': 'SuperCam is a rock-vaporizing instrument that will help scientists hunt for Mars fossils.'}, {'title': \"Robotic Toolkit Added to NASA's Mars 2020 Rover\", 'preview': \"The bit carousel, which lies at the heart of the rover's Sample Caching System, is now aboard NASA's newest rover. \"}, {'title': \"NASA's Push to Save the Mars InSight Lander's Heat Probe\", 'preview': \"The scoop on the end of the spacecraft's robotic arm will be used to 'pin' the mole against the wall of its hole.\"}, {'title': 'NASA to Broadcast Mars 2020 Perseverance Launch, Prelaunch Activities', 'preview': 'Starting July 27, news activities will cover everything from mission engineering and science to returning samples from Mars to, of course, the launch itself.'}, {'title': \"From JPL's Mailroom to Mars and Beyond\", 'preview': 'Bill Allen has thrived as the mechanical systems design lead for three Mars rover missions, but he got his start as a teenager sorting letters for the NASA center.'}, {'title': \"NASA's Mars Perseverance Rover Gets Its Sample Handling System\", 'preview': 'The system will be collecting and storing Martian rock and soil. Its installation marks another milestone in the march toward the July launch period.'}, {'title': \"NASA's MAVEN Maps Winds in the Martian Upper Atmosphere that Mirror the Terrain Below and Gives Clues to Martian Climate\", 'preview': 'Researchers have created the first map of wind circulation in the upper atmosphere of a planet besides Earth, using data from NASA’s MAVEN spacecraft that were collected during the last two years.'}, {'title': \"What's Mars Solar Conjunction, and Why Does It Matter?\", 'preview': 'NASA spacecraft at Mars are going to be on their own for a few weeks when the Sun comes between Mars and Earth, interrupting communications.'}, {'title': \"NASA's Mars 2020 Will Hunt for Microscopic Fossils\", 'preview': \"A new paper identifies a ring of minerals at the rover's landing site that are ideal for fossilizing microbial life.\"}, {'title': 'NASA Wins Two Emmy Awards for Interactive Mission Coverage', 'preview': \"NASA-JPL's coverage of the Mars InSight landing earns one of the two wins, making this the NASA center's second Emmy.\"}, {'title': \"HiRISE Views NASA's InSight and Curiosity on Mars\", 'preview': 'New images taken from space offer the clearest orbital glimpse yet of InSight as well as a view of Curiosity rolling along.'}, {'title': \"NASA's Perseverance Rover Bringing 3D-Printed Metal Parts to Mars\", 'preview': \"For hobbyists and makers, 3D printing expands creative possibilities; for specialized engineers, it's also key to next-generation spacecraft design.\"}, {'title': \"The Detective Aboard NASA's Perseverance Rover\", 'preview': 'An instrument called SHERLOC will, with the help of its partner WATSON, hunt for signs of ancient life by detecting organic molecules and minerals.'}, {'title': 'MOXIE Could Help Future Rockets Launch Off Mars', 'preview': \"NASA's Perseverance rover carries a device to convert Martian air into oxygen that, if produced on a larger scale, could be used not just for breathing, but also for fuel.\"}, {'title': \"Virginia Middle School Student Earns Honor of Naming NASA's Next Mars Rover\", 'preview': 'NASA chose a seventh-grader from Virginia as winner of the agency\\'s \"Name the Rover\" essay contest. Alexander Mather\\'s entry for \"Perseverance\" was voted tops among 28,000 entries. '}]\n"
     ]
    }
   ],
   "source": [
    "# Print the list to confirm success\n",
    "print(articles)"
   ]
  },
  {
   "cell_type": "code",
   "execution_count": 33,
   "metadata": {},
   "outputs": [],
   "source": [
    "browser.quit()"
   ]
  },
  {
   "cell_type": "markdown",
   "metadata": {},
   "source": [
    "### (Optional) Step 4: Export the Data\n",
    "\n",
    "Optionally, store the scraped data in a file or database (to ease sharing the data with others). To do so, export the scraped data to either a JSON file or a MongoDB database."
   ]
  },
  {
   "cell_type": "code",
   "execution_count": 10,
   "metadata": {},
   "outputs": [],
   "source": [
    "# Export data to JSON\n"
   ]
  },
  {
   "cell_type": "code",
   "execution_count": 35,
   "metadata": {},
   "outputs": [],
   "source": [
    "# Export data to MongoDB\n",
    "# Initialize PyMongo to work with MongoDBs\n",
    "conn = 'mongodb://localhost:27017'\n",
    "client = pymongo.MongoClient(conn)"
   ]
  },
  {
   "cell_type": "code",
   "execution_count": 36,
   "metadata": {},
   "outputs": [],
   "source": [
    "# Define database and collection\n",
    "db = client.mars_news_db\n",
    "collection = db.articles"
   ]
  },
  {
   "cell_type": "code",
   "execution_count": 37,
   "metadata": {},
   "outputs": [],
   "source": [
    "#iterate through list and insert into db\n",
    "for article in articles:\n",
    "    collection.insert_one(article)"
   ]
  },
  {
   "cell_type": "code",
   "execution_count": 41,
   "metadata": {},
   "outputs": [
    {
     "name": "stdout",
     "output_type": "stream",
     "text": [
      "{'_id': ObjectId('63b5985d0e16ec03ec23c65c'), 'title': \"All About the Laser (and Microphone) Atop Mars 2020, NASA's Next Rover\", 'preview': 'SuperCam is a rock-vaporizing instrument that will help scientists hunt for Mars fossils.'}\n",
      "{'_id': ObjectId('63b5985e0e16ec03ec23c65d'), 'title': \"Robotic Toolkit Added to NASA's Mars 2020 Rover\", 'preview': \"The bit carousel, which lies at the heart of the rover's Sample Caching System, is now aboard NASA's newest rover. \"}\n",
      "{'_id': ObjectId('63b5985e0e16ec03ec23c65e'), 'title': \"NASA's Push to Save the Mars InSight Lander's Heat Probe\", 'preview': \"The scoop on the end of the spacecraft's robotic arm will be used to 'pin' the mole against the wall of its hole.\"}\n",
      "{'_id': ObjectId('63b5985e0e16ec03ec23c65f'), 'title': 'NASA to Broadcast Mars 2020 Perseverance Launch, Prelaunch Activities', 'preview': 'Starting July 27, news activities will cover everything from mission engineering and science to returning samples from Mars to, of course, the launch itself.'}\n",
      "{'_id': ObjectId('63b5985e0e16ec03ec23c660'), 'title': \"From JPL's Mailroom to Mars and Beyond\", 'preview': 'Bill Allen has thrived as the mechanical systems design lead for three Mars rover missions, but he got his start as a teenager sorting letters for the NASA center.'}\n",
      "{'_id': ObjectId('63b5985e0e16ec03ec23c661'), 'title': \"NASA's Mars Perseverance Rover Gets Its Sample Handling System\", 'preview': 'The system will be collecting and storing Martian rock and soil. Its installation marks another milestone in the march toward the July launch period.'}\n",
      "{'_id': ObjectId('63b5985e0e16ec03ec23c662'), 'title': \"NASA's MAVEN Maps Winds in the Martian Upper Atmosphere that Mirror the Terrain Below and Gives Clues to Martian Climate\", 'preview': 'Researchers have created the first map of wind circulation in the upper atmosphere of a planet besides Earth, using data from NASA’s MAVEN spacecraft that were collected during the last two years.'}\n",
      "{'_id': ObjectId('63b5985e0e16ec03ec23c663'), 'title': \"What's Mars Solar Conjunction, and Why Does It Matter?\", 'preview': 'NASA spacecraft at Mars are going to be on their own for a few weeks when the Sun comes between Mars and Earth, interrupting communications.'}\n",
      "{'_id': ObjectId('63b5985e0e16ec03ec23c664'), 'title': \"NASA's Mars 2020 Will Hunt for Microscopic Fossils\", 'preview': \"A new paper identifies a ring of minerals at the rover's landing site that are ideal for fossilizing microbial life.\"}\n",
      "{'_id': ObjectId('63b5985e0e16ec03ec23c665'), 'title': 'NASA Wins Two Emmy Awards for Interactive Mission Coverage', 'preview': \"NASA-JPL's coverage of the Mars InSight landing earns one of the two wins, making this the NASA center's second Emmy.\"}\n",
      "{'_id': ObjectId('63b5985e0e16ec03ec23c666'), 'title': \"HiRISE Views NASA's InSight and Curiosity on Mars\", 'preview': 'New images taken from space offer the clearest orbital glimpse yet of InSight as well as a view of Curiosity rolling along.'}\n",
      "{'_id': ObjectId('63b5985e0e16ec03ec23c667'), 'title': \"NASA's Perseverance Rover Bringing 3D-Printed Metal Parts to Mars\", 'preview': \"For hobbyists and makers, 3D printing expands creative possibilities; for specialized engineers, it's also key to next-generation spacecraft design.\"}\n",
      "{'_id': ObjectId('63b5985e0e16ec03ec23c668'), 'title': \"The Detective Aboard NASA's Perseverance Rover\", 'preview': 'An instrument called SHERLOC will, with the help of its partner WATSON, hunt for signs of ancient life by detecting organic molecules and minerals.'}\n",
      "{'_id': ObjectId('63b5985e0e16ec03ec23c669'), 'title': 'MOXIE Could Help Future Rockets Launch Off Mars', 'preview': \"NASA's Perseverance rover carries a device to convert Martian air into oxygen that, if produced on a larger scale, could be used not just for breathing, but also for fuel.\"}\n",
      "{'_id': ObjectId('63b5985e0e16ec03ec23c66a'), 'title': \"Virginia Middle School Student Earns Honor of Naming NASA's Next Mars Rover\", 'preview': 'NASA chose a seventh-grader from Virginia as winner of the agency\\'s \"Name the Rover\" essay contest. Alexander Mather\\'s entry for \"Perseverance\" was voted tops among 28,000 entries. '}\n"
     ]
    }
   ],
   "source": [
    "# Display items in MongoDB collection\n",
    "stories = db.articles.find()\n",
    "\n",
    "for story in stories:\n",
    "    print(story)"
   ]
  }
 ],
 "metadata": {
  "kernelspec": {
   "display_name": "PythonDataOne",
   "language": "python",
   "name": "python3"
  },
  "language_info": {
   "codemirror_mode": {
    "name": "ipython",
    "version": 3
   },
   "file_extension": ".py",
   "mimetype": "text/x-python",
   "name": "python",
   "nbconvert_exporter": "python",
   "pygments_lexer": "ipython3",
   "version": "3.7.7 (default, May  6 2020, 11:45:54) [MSC v.1916 64 bit (AMD64)]"
  },
  "vscode": {
   "interpreter": {
    "hash": "73c84dcd92d024433e7b71ef95d9279dabf00edfda2d7f6915a13d74f7e2227c"
   }
  }
 },
 "nbformat": 4,
 "nbformat_minor": 4
}
